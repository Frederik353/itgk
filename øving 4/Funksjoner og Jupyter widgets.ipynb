{
 "cells": [
  {
   "cell_type": "markdown",
   "metadata": {
    "deletable": false,
    "editable": false,
    "run_control": {
     "frozen": true
    }
   },
   "source": [
    "<nav class=\"navbar navbar-default\">\n",
    "  <div class=\"container-fluid\">\n",
    "    <div class=\"navbar-header\">\n",
    "      <a class=\"navbar-brand\" href=\"_Oving4.ipynb\">Øving 4</a>\n",
    "    </div>\n",
    "    <ul class=\"nav navbar-nav\">\n",
    "    <li><a href=\"Grunnleggende%20om%20funksjoner.ipynb\">Grunnleggende om funksjoner</a></li>\n",
    "    <li><a href=\"Varierte%20funksjoner.ipynb\">Varierte funksjoner</a></li>\n",
    "    <li><a href=\"Lokale%20variabler.ipynb\">Lokale variabler</a></li>\n",
    "    <li><a href=\"Globale%20variabler.ipynb\">Globale variabler</a></li>\n",
    "    <li ><a href=\"Euklids%20algoritme.ipynb\">Euklids algoritme</a></li>\n",
    "    <li><a href=\"Primtall.ipynb\">Primtall</a></li>\n",
    "    <li><a href=\"Multiplikasjon.ipynb\">Multiplikasjon</a></li>\n",
    "        <li><a href=\"Den%20store%20sporreundersokelsen.ipynb\">Den store spørreundersøkelsen</a></li>\n",
    "    <li><a href=\"Arbeidsdager.ipynb\">Arbeidsdager</a></li>\n",
    "    <li><a href=\"Sekantmetoden.ipynb\">Sekantmetoden</a></li>\n",
    "    <li><a href=\"Not%20quite%20Blackjack.ipynb\">Not quite Blackjack</a></li>\n",
    "    <li class=\"active\"><a href=\"Funksjoner%20og%20Jupyter%20widgets.ipynb\">Funksjoner og Jupyter widgets</a></li>\n",
    "    </ul>\n",
    "  </div>\n",
    "</nav>\n",
    "\n",
    "# Funksjoner og Jupyter widgets\n",
    "\n",
    "**Læringsmål:**\n",
    "- Funksjoner\n",
    "\n",
    "Det er mye vi kan bruke funksjoner til i python. I jupyter finnes det et eget bibliotek med knapper og andre interaktive verktøy kalt widgets. Med widgets kan vi interagere med brukeren på et litt annet nivå enn det å ta tekstlig input fra konsollen tillater. Disse oppgavene anbefales det at blir gjort i Jupyter, fordi widgets ikke funker så bra i VSCode (eller andre IDEer). I tillegg er det lurt å ta en liten kikk på dokumentajsonen til widgets før du setter i gang, [her](https://ipywidgets.readthedocs.io/en/latest/examples/Using%20Interact.html).  "
   ]
  },
  {
   "cell_type": "markdown",
   "metadata": {
    "deletable": false,
    "editable": false,
    "run_control": {
     "frozen": true
    }
   },
   "source": [
    "## Interact"
   ]
  },
  {
   "cell_type": "markdown",
   "metadata": {
    "deletable": false,
    "editable": false,
    "run_control": {
     "frozen": true
    }
   },
   "source": [
    "Under ser vi hvordan vi kan definere en simpel funksjon, før vi kobler sammen funksjonen med grensesnittkontroller i form av en slider. Funksjonen vil så kalles med hva enn slideren er satt til. Når vi beveger slideren kalles funksjonen med sliderens verdi og verdien printes. **Kjør koden under**"
   ]
  },
  {
   "cell_type": "code",
   "execution_count": 1,
   "metadata": {},
   "outputs": [
    {
     "data": {
      "application/vnd.jupyter.widget-view+json": {
       "model_id": "01f5378cac8e40f09c560ebd9ad62479",
       "version_major": 2,
       "version_minor": 0
      },
      "text/plain": [
       "interactive(children=(IntSlider(value=10, description='x', max=30, min=-10), Output()), _dom_classes=('widget-…"
      ]
     },
     "metadata": {},
     "output_type": "display_data"
    },
    {
     "data": {
      "text/plain": [
       "<function __main__.f(x)>"
      ]
     },
     "execution_count": 1,
     "metadata": {},
     "output_type": "execute_result"
    }
   ],
   "source": [
    "from ipywidgets import interact, interactive, fixed, interact_manual\n",
    "from IPython.display import display\n",
    "import ipywidgets as widgets\n",
    "\n",
    "def f(x):\n",
    "    return x\n",
    "\n",
    "interact(f, x=10)"
   ]
  },
  {
   "cell_type": "markdown",
   "metadata": {
    "deletable": false,
    "editable": false,
    "run_control": {
     "frozen": true
    }
   },
   "source": [
    "### Oppgave a): \n",
    "Lag en slider hvor kvadratet av tallet slideren er satt til pluss 10 printes ut. Sett sliderens standardverdi til 3, minimumsverdien til -15, og maksverdien til 20. Steglengden skal være 0.2"
   ]
  },
  {
   "cell_type": "code",
   "execution_count": 2,
   "metadata": {},
   "outputs": [
    {
     "data": {
      "application/vnd.jupyter.widget-view+json": {
       "model_id": "96f96c56b493486083ef1142a10b4267",
       "version_major": 2,
       "version_minor": 0
      },
      "text/plain": [
       "FloatSlider(value=3.0, description='Slider:', max=20.0, min=-15.0, step=0.2)"
      ]
     },
     "metadata": {},
     "output_type": "display_data"
    },
    {
     "name": "stdout",
     "output_type": "stream",
     "text": [
      "Kvadratet av 2.9999999999999964 pluss 10 er 18.99999999999998\n",
      "Kvadratet av 2.3999999999999986 pluss 10 er 15.759999999999994\n",
      "Kvadratet av -13.4 pluss 10 er 189.56\n",
      "Kvadratet av -13.0 pluss 10 er 179.0\n",
      "Kvadratet av -4.6 pluss 10 er 31.159999999999997\n",
      "Kvadratet av 4.399999999999999 pluss 10 er 29.35999999999999\n",
      "Kvadratet av 8.399999999999995 pluss 10 er 80.55999999999992\n",
      "Kvadratet av 7.199999999999999 pluss 10 er 61.83999999999999\n",
      "Kvadratet av 2.3999999999999986 pluss 10 er 15.759999999999994\n",
      "Kvadratet av 2.1999999999999993 pluss 10 er 14.839999999999996\n",
      "Kvadratet av -7.800000000000001 pluss 10 er 70.84\n",
      "Kvadratet av -7.400000000000001 pluss 10 er 64.76000000000002\n"
     ]
    }
   ],
   "source": [
    "import ipywidgets as widgets\n",
    "from IPython.display import display\n",
    "\n",
    "# Opprett slideren med angitte spesifikasjoner\n",
    "slider = widgets.FloatSlider(\n",
    "    value=3,  # Standardverdi\n",
    "    min=-15,  # Minimumsverdi\n",
    "    max=20,   # Maksimumsverdi\n",
    "    step=0.2, # Steglengde\n",
    "    description='Slider:'\n",
    ")\n",
    "\n",
    "# Funksjon for å håndtere sliderens endringer\n",
    "def handle_slider_change(change):\n",
    "    value = slider.value\n",
    "    result = value**2 + 10\n",
    "    print(f\"Kvadratet av {value} pluss 10 er {result}\")\n",
    "\n",
    "# Koble funksjonen til sliderens endringer\n",
    "slider.observe(handle_slider_change, 'value')\n",
    "\n",
    "# Vis slideren\n",
    "display(slider)\n"
   ]
  },
  {
   "cell_type": "markdown",
   "metadata": {
    "deletable": false,
    "editable": false,
    "heading_collapsed": true,
    "run_control": {
     "frozen": true
    }
   },
   "source": [
    "#### Hint"
   ]
  },
  {
   "cell_type": "markdown",
   "metadata": {
    "deletable": false,
    "editable": false,
    "hidden": true,
    "run_control": {
     "frozen": true
    }
   },
   "source": [
    "Se [her](https://ipywidgets.readthedocs.io/en/latest/examples/Using%20Interact.html#Widget-abbreviations) og [her](https://ipywidgets.readthedocs.io/en/latest/examples/Widget%20List.html). Husk at det er forskjell på int og float."
   ]
  },
  {
   "cell_type": "markdown",
   "metadata": {
    "deletable": false,
    "editable": false,
    "run_control": {
     "frozen": true
    }
   },
   "source": [
    "### Interact med andre datatyper"
   ]
  },
  {
   "cell_type": "markdown",
   "metadata": {
    "deletable": false,
    "editable": false,
    "run_control": {
     "frozen": true
    }
   },
   "source": [
    "På helt lik linje kan vi kalle funksjonen vår med helt andre datatyper, så lenge vi ikke gjør noe ulovlig med dem inne i funksjonen. Setter vi x til en boolean vil vi heller få opp en avkrysningsboks, som enten vil være True eller False. Setter vi x til en streng vil få opp en tekstboks."
   ]
  },
  {
   "cell_type": "code",
   "execution_count": 8,
   "metadata": {},
   "outputs": [
    {
     "data": {
      "application/vnd.jupyter.widget-view+json": {
       "model_id": "87e69028e7dc4e3ea9efbbae8a7634db",
       "version_major": 2,
       "version_minor": 0
      },
      "text/plain": [
       "interactive(children=(Checkbox(value=True, description='x'), Output()), _dom_classes=('widget-interact',))"
      ]
     },
     "metadata": {},
     "output_type": "display_data"
    },
    {
     "data": {
      "application/vnd.jupyter.widget-view+json": {
       "model_id": "121a3f24e72443929d9c3b80d2b73016",
       "version_major": 2,
       "version_minor": 0
      },
      "text/plain": [
       "interactive(children=(Text(value='Hei, hva heter du?', description='x'), Output()), _dom_classes=('widget-inte…"
      ]
     },
     "metadata": {},
     "output_type": "display_data"
    },
    {
     "data": {
      "text/plain": [
       "<function __main__.f(x)>"
      ]
     },
     "execution_count": 8,
     "metadata": {},
     "output_type": "execute_result"
    }
   ],
   "source": [
    "interact(f, x=True)\n",
    "interact(f, x = \"Hei, hva heter du?\")"
   ]
  },
  {
   "cell_type": "markdown",
   "metadata": {
    "deletable": false,
    "editable": false,
    "run_control": {
     "frozen": true
    }
   },
   "source": [
    "### Oppgave b): \n",
    "Lag en funksjon `equation(a,b,c,x,reverse,statement)` som tar inn fem argumenter ved hjelp av widgets, a,b,c og x skal være heltall, reverse en boolean, og statement en streng. Funksjonen skal returnere statement, men dersom reverse er True, skal det være stor bokstav der det tidligere var liten, og motsatt. Deretter skal den regne ut\n",
    "\n",
    "$ax^{2}+bx+c$ \n",
    "\n",
    "og dersom reverse er True skal fortegnet til a ganges med -1. \n",
    "\n",
    "Eksmpel på kjøring:\n",
    "```python\n",
    ">>> print(equation(2,2,2,1,True, \"Hei\")\n",
    "(\"hEI\", 2)\n",
    ">>> print(equation(2,2,2,1,False, \"Hei\")\n",
    "(\"Hei\", 6)\n",
    ">>> print(equation(5,1,-10,20,False, \"Heiho\")\n",
    "(\"Heiho\", 2010)\n",
    "```"
   ]
  },
  {
   "cell_type": "code",
   "execution_count": 9,
   "metadata": {},
   "outputs": [
    {
     "data": {
      "application/vnd.jupyter.widget-view+json": {
       "model_id": "49cf05fe259a446a9ac267c6d6694f33",
       "version_major": 2,
       "version_minor": 0
      },
      "text/plain": [
       "IntSlider(value=2, description='a:', max=20, min=-20)"
      ]
     },
     "metadata": {},
     "output_type": "display_data"
    },
    {
     "data": {
      "application/vnd.jupyter.widget-view+json": {
       "model_id": "e4569b771af34e62be45ec5c4c214cf6",
       "version_major": 2,
       "version_minor": 0
      },
      "text/plain": [
       "IntSlider(value=2, description='b:', max=20, min=-20)"
      ]
     },
     "metadata": {},
     "output_type": "display_data"
    },
    {
     "data": {
      "application/vnd.jupyter.widget-view+json": {
       "model_id": "9a9251b56fcc4a4a94447c215b451334",
       "version_major": 2,
       "version_minor": 0
      },
      "text/plain": [
       "IntSlider(value=2, description='c:', max=20, min=-20)"
      ]
     },
     "metadata": {},
     "output_type": "display_data"
    },
    {
     "data": {
      "application/vnd.jupyter.widget-view+json": {
       "model_id": "7d619b0faa6d4766b7988cc89b9a5511",
       "version_major": 2,
       "version_minor": 0
      },
      "text/plain": [
       "IntSlider(value=1, description='x:', max=20, min=-20)"
      ]
     },
     "metadata": {},
     "output_type": "display_data"
    },
    {
     "data": {
      "application/vnd.jupyter.widget-view+json": {
       "model_id": "45995c0e71934cc1be579594e95f2df6",
       "version_major": 2,
       "version_minor": 0
      },
      "text/plain": [
       "Checkbox(value=False, description='Reverse')"
      ]
     },
     "metadata": {},
     "output_type": "display_data"
    },
    {
     "data": {
      "application/vnd.jupyter.widget-view+json": {
       "model_id": "2cbc57ec21ff4d62a329ca13be4829d9",
       "version_major": 2,
       "version_minor": 0
      },
      "text/plain": [
       "Text(value='Hei', description='Statement:')"
      ]
     },
     "metadata": {},
     "output_type": "display_data"
    },
    {
     "data": {
      "application/vnd.jupyter.widget-view+json": {
       "model_id": "5975a2288e174987b16c37781522e66c",
       "version_major": 2,
       "version_minor": 0
      },
      "text/plain": [
       "Button(description='Beregn', style=ButtonStyle())"
      ]
     },
     "metadata": {},
     "output_type": "display_data"
    },
    {
     "name": "stdout",
     "output_type": "stream",
     "text": [
      "('hEI', 6)\n",
      "('Hei', 6)\n",
      "('Heiho', 2010)\n"
     ]
    },
    {
     "name": "stdout",
     "output_type": "stream",
     "text": [
      "('hEI', 6)\n",
      "('hEI', 6)\n",
      "('hEIJGG', 762)\n"
     ]
    }
   ],
   "source": [
    "import ipywidgets as widgets\n",
    "from IPython.display import display\n",
    "\n",
    "\n",
    "def equation(a, b, c, x, reverse, statement):\n",
    "    if reverse:\n",
    "        statement = statement.swapcase()\n",
    "\n",
    "    result = a * x**2 + b * x + c\n",
    "    if reverse:\n",
    "        a *= -1\n",
    "\n",
    "    return statement, result\n",
    "\n",
    "a_slider = widgets.IntSlider(value=2, min=-20, max=20, description='a:')\n",
    "b_slider = widgets.IntSlider(value=2, min=-20, max=20, description='b:')\n",
    "c_slider = widgets.IntSlider(value=2, min=-20, max=20, description='c:')\n",
    "x_slider = widgets.IntSlider(value=1, min=-20, max=20, description='x:')\n",
    "\n",
    "reverse_checkbox = widgets.Checkbox(value=False, description='Reverse')\n",
    "\n",
    "statement_text = widgets.Text(value=\"Hei\", description='Statement:')\n",
    "\n",
    "calculate_button = widgets.Button(description='Beregn')\n",
    "\n",
    "def calculate_button_click(b):\n",
    "    a = a_slider.value\n",
    "    b = b_slider.value\n",
    "    c = c_slider.value\n",
    "    x = x_slider.value\n",
    "    reverse = reverse_checkbox.value\n",
    "    statement = statement_text.value\n",
    "\n",
    "    result = equation(a, b, c, x, reverse, statement)\n",
    "    print(result)\n",
    "\n",
    "calculate_button.on_click(calculate_button_click)\n",
    "\n",
    "display(a_slider, b_slider, c_slider, x_slider, reverse_checkbox, statement_text, calculate_button)\n",
    "\n",
    "print(equation(2, 2, 2, 1, True, \"Hei\"))    # Output: (\"hEI\", 2)\n",
    "print(equation(2, 2, 2, 1, False, \"Hei\"))   # Output: (\"Hei\", 6)\n",
    "print(equation(5, 1, -10, 20, False, \"Heiho\"))  # Output: (\"Heiho\", 2010)\n"
   ]
  },
  {
   "cell_type": "markdown",
   "metadata": {
    "deletable": false,
    "editable": false,
    "heading_collapsed": true,
    "run_control": {
     "frozen": true
    }
   },
   "source": [
    "#### Hint"
   ]
  },
  {
   "cell_type": "markdown",
   "metadata": {
    "deletable": false,
    "editable": false,
    "hidden": true,
    "run_control": {
     "frozen": true
    }
   },
   "source": [
    "En funksjon i python kan enkelt returnere to verdier separert med komma.\n",
    "```python\n",
    "def funksjon()\n",
    "    return \"hei\",6\n",
    "```\n",
    "Her må vi i tillegg iterere over en streng, noe vi teknisk sett ikke har lært enda. Du kan lese litt mer om dette [her](https://thispointer.com/python-how-to-iterate-over-the-characters-in-string/)."
   ]
  },
  {
   "cell_type": "markdown",
   "metadata": {
    "deletable": false,
    "editable": false,
    "run_control": {
     "frozen": true
    }
   },
   "source": [
    "## Buttons"
   ]
  },
  {
   "cell_type": "markdown",
   "metadata": {
    "deletable": false,
    "editable": false,
    "run_control": {
     "frozen": true
    }
   },
   "source": [
    "Jupyter lar oss også benytte oss av buttons, som vi kan koble sammen med funksjoner. I tillegg la oss ta en kikk på Textarea, som vi kan bruke til å ta input fra bruker på en litt annen måte. "
   ]
  },
  {
   "cell_type": "code",
   "execution_count": 12,
   "metadata": {},
   "outputs": [
    {
     "data": {
      "application/vnd.jupyter.widget-view+json": {
       "model_id": "ecf173030f23431eaa5f7a0457d6c0d4",
       "version_major": 2,
       "version_minor": 0
      },
      "text/plain": [
       "Textarea(value='Hello World', description='tekst:', placeholder='Type something')"
      ]
     },
     "metadata": {},
     "output_type": "display_data"
    },
    {
     "name": "stdout",
     "output_type": "stream",
     "text": [
      "Hello World\n"
     ]
    }
   ],
   "source": [
    "tekst = widgets.Textarea(\n",
    "    value='Hello World',\n",
    "    placeholder='Type something',\n",
    "    description='tekst:',\n",
    "    disabled=False\n",
    ")\n",
    "display(tekst)\n",
    "print(tekst.value)"
   ]
  },
  {
   "cell_type": "markdown",
   "metadata": {
    "deletable": false,
    "editable": false,
    "run_control": {
     "frozen": true
    }
   },
   "source": [
    "Over ser vi et eksempel på et tekstfelt, hvor vi etterpå prøver å printe verdien som gis inn i tekstfeltet. Dette ser vi ikke fungerer om vi prøver å endre verdien i tekstfeltet og kjøre koden på nytt. La oss heller se på hvordan en knapp fungerer. Under ser vi hvordan vi definerer en knapp og så en funksjon som kalles når knappen trykkes. Merk at funksjonen hello tar inn en parameter b, denne parameteren vil da være knappen selv, altså button. Dette trenger du ikke tenke så mye på, bare vit at når definerer en funksjon som kalles når knappen trykkes, må denne parameteren alltid være med. "
   ]
  },
  {
   "cell_type": "code",
   "execution_count": null,
   "metadata": {},
   "outputs": [],
   "source": []
  },
  {
   "cell_type": "code",
   "execution_count": 16,
   "metadata": {},
   "outputs": [
    {
     "data": {
      "application/vnd.jupyter.widget-view+json": {
       "model_id": "34328fb8b9dd460bac3bb09ecfbefc69",
       "version_major": 2,
       "version_minor": 0
      },
      "text/plain": [
       "Textarea(value='hello world', description='tekst:', placeholder='Type something')"
      ]
     },
     "metadata": {},
     "output_type": "display_data"
    },
    {
     "name": "stdout",
     "output_type": "stream",
     "text": [
      "hello world\n"
     ]
    },
    {
     "data": {
      "application/vnd.jupyter.widget-view+json": {
       "model_id": "04fe6a7cb28848b88872a6651e5eeef5",
       "version_major": 2,
       "version_minor": 0
      },
      "text/plain": [
       "Button(description='Click me', style=ButtonStyle(), tooltip='Click me')"
      ]
     },
     "metadata": {},
     "output_type": "display_data"
    }
   ],
   "source": [
    "button = widgets.Button(\n",
    "    description='Click me',\n",
    "    disabled=False,\n",
    "    tooltip='Click me',\n",
    ")\n",
    "\n",
    "\n",
    "tekst = widgets.Textarea(\n",
    "    value=textbox,\n",
    "    placeholder='Type something',\n",
    "    description='tekst:',\n",
    "    disabled=False,\n",
    "    continuous_update=True\n",
    ")\n",
    "\n",
    "\n",
    "\n",
    "display(tekst)\n",
    "print(tekst.value)\n",
    "\n",
    "\n",
    "def hello(b):\n",
    "\n",
    "    print(tekst.value)\n",
    "\n",
    "button.on_click(hello)\n",
    "\n",
    "display(button)"
   ]
  },
  {
   "cell_type": "markdown",
   "metadata": {
    "deletable": false,
    "editable": false,
    "run_control": {
     "frozen": true
    }
   },
   "source": [
    "### Oppgave c):\n",
    "Endre funksjonen hello så den printer ut det som er skrevet inn i tekstfeltet \"tekst\"."
   ]
  },
  {
   "cell_type": "markdown",
   "metadata": {
    "deletable": false,
    "editable": false,
    "run_control": {
     "frozen": true
    }
   },
   "source": [
    "### Oppgave d): \n",
    "Lag en funksjon som stiller brukeren et flervalgsspørsmål. Ta derimot inn i svaret ved hjelp av RadioButtons-widgeten. Sjekk svaret ved bruk av en knapp og fortell brukeren om den svarte riktig eller galt. "
   ]
  },
  {
   "cell_type": "code",
   "execution_count": 7,
   "metadata": {},
   "outputs": [
    {
     "data": {
      "application/vnd.jupyter.widget-view+json": {
       "model_id": "95dffc7d33394ecfb735758c048b8d58",
       "version_major": 2,
       "version_minor": 0
      },
      "text/plain": [
       "Label(value='Hva er hovedstaden i Frankrike?')"
      ]
     },
     "metadata": {},
     "output_type": "display_data"
    },
    {
     "data": {
      "application/vnd.jupyter.widget-view+json": {
       "model_id": "61fa5e71688d44b0bee7a283df4c59f0",
       "version_major": 2,
       "version_minor": 0
      },
      "text/plain": [
       "RadioButtons(description='Valg:', options=('Berlin', 'Roma', 'Madrid', 'Paris'), value='Berlin')"
      ]
     },
     "metadata": {},
     "output_type": "display_data"
    },
    {
     "data": {
      "application/vnd.jupyter.widget-view+json": {
       "model_id": "67facd6763f544ddad0f1f6c97a1133b",
       "version_major": 2,
       "version_minor": 0
      },
      "text/plain": [
       "Button(description='Sjekk svar', style=ButtonStyle())"
      ]
     },
     "metadata": {},
     "output_type": "display_data"
    },
    {
     "data": {
      "application/vnd.jupyter.widget-view+json": {
       "model_id": "64fdc65f10404ac596a3afca9dced3b9",
       "version_major": 2,
       "version_minor": 0
      },
      "text/plain": [
       "Output()"
      ]
     },
     "metadata": {},
     "output_type": "display_data"
    }
   ],
   "source": [
    "import ipywidgets as widgets\n",
    "from IPython.display import display\n",
    "\n",
    "def multiple_choice_question(question, choices, correct_answer):\n",
    "    # Opprett RadioButtons-widget for valg\n",
    "    choice_radio_buttons = widgets.RadioButtons(\n",
    "        options=choices,\n",
    "        description='Valg:'\n",
    "    )\n",
    "\n",
    "    # Opprett en knapp for å sjekke svaret\n",
    "    check_button = widgets.Button(description='Sjekk svar')\n",
    "\n",
    "    # Opprett et utgjerningsfelt for tilbakemelding\n",
    "    feedback_output = widgets.Output()\n",
    "\n",
    "    # Funksjon for å håndtere knappetrykk og evaluere svaret\n",
    "    def check_button_click(b):\n",
    "        user_answer = choice_radio_buttons.value\n",
    "        feedback_output.clear_output()\n",
    "        with feedback_output:\n",
    "            if user_answer == correct_answer:\n",
    "                print(\"Riktig svar!\")\n",
    "            else:\n",
    "                print(\"Feil svar. Prøv igjen.\")\n",
    "\n",
    "    check_button.on_click(check_button_click)\n",
    "\n",
    "    # Vis spørsmålet og widgetene\n",
    "    display(widgets.Label(question))\n",
    "    display(choice_radio_buttons)\n",
    "    display(check_button)\n",
    "    display(feedback_output)\n",
    "\n",
    "question = \"Hva er hovedstaden i Frankrike?\"\n",
    "choices = [\"Berlin\", \"Roma\", \"Madrid\", \"Paris\"]\n",
    "correct_answer = \"Paris\"\n",
    "\n",
    "multiple_choice_question(question, choices, correct_answer)\n",
    "\n",
    "\n",
    "\n",
    "\n",
    "\n",
    "\n"
   ]
  },
  {
   "cell_type": "markdown",
   "metadata": {
    "deletable": false,
    "editable": false,
    "heading_collapsed": true,
    "run_control": {
     "frozen": true
    }
   },
   "source": [
    "#### Hint"
   ]
  },
  {
   "cell_type": "markdown",
   "metadata": {
    "deletable": false,
    "editable": false,
    "hidden": true,
    "run_control": {
     "frozen": true
    }
   },
   "source": [
    "Det kan værte lurt å se [her](https://ipywidgets.readthedocs.io/en/latest/examples/Widget%20List.html#Selection-widgets). Python har også støtte for å definere funksjoner inni funksjoner, les mer om disse [her](https://realpython.com/inner-functions-what-are-they-good-for/)."
   ]
  }
 ],
 "metadata": {
  "kernelspec": {
   "display_name": "Python 3",
   "language": "python",
   "name": "python3"
  },
  "language_info": {
   "codemirror_mode": {
    "name": "ipython",
    "version": 3
   },
   "file_extension": ".py",
   "mimetype": "text/x-python",
   "name": "python",
   "nbconvert_exporter": "python",
   "pygments_lexer": "ipython3",
   "version": "3.9.2"
  }
 },
 "nbformat": 4,
 "nbformat_minor": 2
}
